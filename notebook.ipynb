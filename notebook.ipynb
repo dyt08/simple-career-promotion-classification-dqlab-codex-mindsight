{
  "cells": [
    {
      "cell_type": "markdown",
      "metadata": {
        "id": "hMWKh2iN2sVw"
      },
      "source": [
        "**Study Case Challenge**\n",
        "\n",
        "Sebuah Perusahaan e-commerce yang sedang bertumbuh memiliki 9 department di seluruh organisasi perusahaan, memiliki 78.298 karyawan yang di bagikan menjadi 3 level, yaitu Senior, Middle dan Junior. Salah satu masalah yang dihadapi adalah perusahaan tidak memiliki persyaratan yang spesifik dan pola untuk mengidentifikasi talent yang sesuai untuk di promosikan di waktu yang tepat. Kondisi saat ini, promosi dilakukan berdasarkan permintaan dari senior manager.\n",
        "\n",
        "Untuk saat ini,  Perusahaan sedang membutuhkan bantuan untuk mengidentifikasi faktor dalam menentukan promosi seorang karyawan juga mempertimbangkan dari sisi Promotion Cycle atau Siklus Promosi perusahaan tersebut. Beberapa data telah dikumpulkan oleh perusahaan baik itu data performansi lampau dan saat ini berdasarkan demografis. \n",
        "\n",
        "(data dapat di downloaded in https://drive.google.com/file/d/1povxTAqUoTDl_Q81uUvRrni9zU6gE1sh/view?usp=sharing)\n",
        "\n",
        "Hal-hal yang perlu diperhatikan :\n",
        "- Kualitas data dan cara untuk mengembangkannya.\n",
        "- Apakah ada Insight berharga dan menarik yang dapat direkomendasikan kepada Manajemen? dan jelaskan.\n",
        "- Memprediksi karyawan potensial yang berpotensi untuk dipromosikan atau tidak setelah melalui proses evaluasi (Skortambahan jika dapat diselesaikan )\n",
        "- Hasil dapat dituangkan dalam sebuah deck presentasi maksimal 8 halaman (Termasuk cover)\n",
        "- Lampirkan juga Script dalam bentuk file Python, R atau SQL (Skor tambahan jika dapat dilampirkan).\n",
        "- Submit Presentasi dan Script kalian ke Gform berikut paling lambat hari senin 22 November 2021 15:22 WIB (Jakarta time).\n",
        "- 3 Peserta terpilih akan diumumkan pada tanggal 25 November 2021 dan akan diberikan kesempatan untuk mempresentasikan Study Case nya pada saat sesi Review, untuk kemudian dipilih menjadi juara 1,2 dan 3\n",
        "- Selain juara 1 sampai 3 akan dipilih juga satu pemenang favorit loh, semangat ya!\n",
        "\n",
        "Link Submit Challange : https://docs.google.com/forms/d/e/1FAIpQLSd-fnl4bE9X3-0CGEsWZ3HU351inx2Xeoh0skINOIX3oK7XHg/viewform"
      ]
    },
    {
      "cell_type": "code",
      "execution_count": null,
      "metadata": {
        "colab": {
          "base_uri": "https://localhost:8080/"
        },
        "id": "fXXLjRZo1tnx",
        "outputId": "6d053f1e-19ae-4283-db7c-125db1736c2e"
      },
      "outputs": [
        {
          "data": {
            "text/plain": [
              "True"
            ]
          },
          "execution_count": 2,
          "metadata": {},
          "output_type": "execute_result"
        }
      ],
      "source": [
        "import os\n",
        "\n",
        "data = 'data_train_dqlab.csv'\n",
        "os.path.isfile(data)"
      ]
    },
    {
      "cell_type": "code",
      "execution_count": null,
      "metadata": {
        "colab": {
          "base_uri": "https://localhost:8080/",
          "height": 469
        },
        "id": "vjQNI37J1uRN",
        "outputId": "f59d94ea-a1aa-45b7-e470-a8f806555dc9"
      },
      "outputs": [
        {
          "data": {
            "text/html": [
              "<div>\n",
              "<style scoped>\n",
              "    .dataframe tbody tr th:only-of-type {\n",
              "        vertical-align: middle;\n",
              "    }\n",
              "\n",
              "    .dataframe tbody tr th {\n",
              "        vertical-align: top;\n",
              "    }\n",
              "\n",
              "    .dataframe thead th {\n",
              "        text-align: right;\n",
              "    }\n",
              "</style>\n",
              "<table border=\"1\" class=\"dataframe\">\n",
              "  <thead>\n",
              "    <tr style=\"text-align: right;\">\n",
              "      <th></th>\n",
              "      <th>employee_id</th>\n",
              "      <th>department</th>\n",
              "      <th>region</th>\n",
              "      <th>education</th>\n",
              "      <th>gender</th>\n",
              "      <th>job_level</th>\n",
              "      <th>recruitment_channel</th>\n",
              "      <th>no_of_trainings</th>\n",
              "      <th>age</th>\n",
              "      <th>previous_year_rating</th>\n",
              "      <th>length_of_service</th>\n",
              "      <th>awards_won?</th>\n",
              "      <th>avg_training_score</th>\n",
              "      <th>satisfaction_score</th>\n",
              "      <th>engagement_score</th>\n",
              "      <th>is_promoted</th>\n",
              "    </tr>\n",
              "  </thead>\n",
              "  <tbody>\n",
              "    <tr>\n",
              "      <th>0</th>\n",
              "      <td>65438</td>\n",
              "      <td>Sales &amp; Marketing</td>\n",
              "      <td>region_7</td>\n",
              "      <td>Master's &amp; above</td>\n",
              "      <td>f</td>\n",
              "      <td>senior</td>\n",
              "      <td>sourcing</td>\n",
              "      <td>1</td>\n",
              "      <td>35</td>\n",
              "      <td>5.0</td>\n",
              "      <td>8</td>\n",
              "      <td>0</td>\n",
              "      <td>49</td>\n",
              "      <td>5</td>\n",
              "      <td>0.88</td>\n",
              "      <td>0</td>\n",
              "    </tr>\n",
              "    <tr>\n",
              "      <th>1</th>\n",
              "      <td>65141</td>\n",
              "      <td>Operations</td>\n",
              "      <td>region_22</td>\n",
              "      <td>Bachelor's</td>\n",
              "      <td>m</td>\n",
              "      <td>middle</td>\n",
              "      <td>other</td>\n",
              "      <td>1</td>\n",
              "      <td>30</td>\n",
              "      <td>5.0</td>\n",
              "      <td>4</td>\n",
              "      <td>0</td>\n",
              "      <td>60</td>\n",
              "      <td>1</td>\n",
              "      <td>0.31</td>\n",
              "      <td>0</td>\n",
              "    </tr>\n",
              "    <tr>\n",
              "      <th>2</th>\n",
              "      <td>7513</td>\n",
              "      <td>Sales &amp; Marketing</td>\n",
              "      <td>region_19</td>\n",
              "      <td>Bachelor's</td>\n",
              "      <td>m</td>\n",
              "      <td>middle</td>\n",
              "      <td>sourcing</td>\n",
              "      <td>1</td>\n",
              "      <td>34</td>\n",
              "      <td>3.0</td>\n",
              "      <td>7</td>\n",
              "      <td>0</td>\n",
              "      <td>50</td>\n",
              "      <td>5</td>\n",
              "      <td>3.10</td>\n",
              "      <td>0</td>\n",
              "    </tr>\n",
              "    <tr>\n",
              "      <th>3</th>\n",
              "      <td>2542</td>\n",
              "      <td>Sales &amp; Marketing</td>\n",
              "      <td>region_23</td>\n",
              "      <td>Bachelor's</td>\n",
              "      <td>m</td>\n",
              "      <td>senior</td>\n",
              "      <td>other</td>\n",
              "      <td>2</td>\n",
              "      <td>39</td>\n",
              "      <td>1.0</td>\n",
              "      <td>10</td>\n",
              "      <td>0</td>\n",
              "      <td>50</td>\n",
              "      <td>4</td>\n",
              "      <td>0.64</td>\n",
              "      <td>0</td>\n",
              "    </tr>\n",
              "    <tr>\n",
              "      <th>4</th>\n",
              "      <td>48945</td>\n",
              "      <td>Technology</td>\n",
              "      <td>region_26</td>\n",
              "      <td>Bachelor's</td>\n",
              "      <td>m</td>\n",
              "      <td>senior</td>\n",
              "      <td>other</td>\n",
              "      <td>1</td>\n",
              "      <td>45</td>\n",
              "      <td>3.0</td>\n",
              "      <td>2</td>\n",
              "      <td>0</td>\n",
              "      <td>73</td>\n",
              "      <td>2</td>\n",
              "      <td>0.95</td>\n",
              "      <td>0</td>\n",
              "    </tr>\n",
              "    <tr>\n",
              "      <th>5</th>\n",
              "      <td>58896</td>\n",
              "      <td>Analytics</td>\n",
              "      <td>region_2</td>\n",
              "      <td>Bachelor's</td>\n",
              "      <td>m</td>\n",
              "      <td>middle</td>\n",
              "      <td>sourcing</td>\n",
              "      <td>2</td>\n",
              "      <td>31</td>\n",
              "      <td>3.0</td>\n",
              "      <td>7</td>\n",
              "      <td>0</td>\n",
              "      <td>85</td>\n",
              "      <td>5</td>\n",
              "      <td>0.32</td>\n",
              "      <td>0</td>\n",
              "    </tr>\n",
              "    <tr>\n",
              "      <th>6</th>\n",
              "      <td>20379</td>\n",
              "      <td>Operations</td>\n",
              "      <td>region_20</td>\n",
              "      <td>Bachelor's</td>\n",
              "      <td>f</td>\n",
              "      <td>middle</td>\n",
              "      <td>other</td>\n",
              "      <td>1</td>\n",
              "      <td>31</td>\n",
              "      <td>3.0</td>\n",
              "      <td>5</td>\n",
              "      <td>0</td>\n",
              "      <td>59</td>\n",
              "      <td>3</td>\n",
              "      <td>0.58</td>\n",
              "      <td>0</td>\n",
              "    </tr>\n",
              "    <tr>\n",
              "      <th>7</th>\n",
              "      <td>16290</td>\n",
              "      <td>Operations</td>\n",
              "      <td>region_34</td>\n",
              "      <td>Master's &amp; above</td>\n",
              "      <td>m</td>\n",
              "      <td>middle</td>\n",
              "      <td>sourcing</td>\n",
              "      <td>1</td>\n",
              "      <td>33</td>\n",
              "      <td>3.0</td>\n",
              "      <td>6</td>\n",
              "      <td>0</td>\n",
              "      <td>63</td>\n",
              "      <td>5</td>\n",
              "      <td>1.31</td>\n",
              "      <td>0</td>\n",
              "    </tr>\n",
              "    <tr>\n",
              "      <th>8</th>\n",
              "      <td>73202</td>\n",
              "      <td>Analytics</td>\n",
              "      <td>region_20</td>\n",
              "      <td>Bachelor's</td>\n",
              "      <td>m</td>\n",
              "      <td>middle</td>\n",
              "      <td>other</td>\n",
              "      <td>1</td>\n",
              "      <td>28</td>\n",
              "      <td>4.0</td>\n",
              "      <td>5</td>\n",
              "      <td>0</td>\n",
              "      <td>83</td>\n",
              "      <td>4</td>\n",
              "      <td>2.70</td>\n",
              "      <td>0</td>\n",
              "    </tr>\n",
              "    <tr>\n",
              "      <th>9</th>\n",
              "      <td>28911</td>\n",
              "      <td>Sales &amp; Marketing</td>\n",
              "      <td>region_1</td>\n",
              "      <td>Master's &amp; above</td>\n",
              "      <td>m</td>\n",
              "      <td>middle</td>\n",
              "      <td>sourcing</td>\n",
              "      <td>1</td>\n",
              "      <td>32</td>\n",
              "      <td>5.0</td>\n",
              "      <td>5</td>\n",
              "      <td>0</td>\n",
              "      <td>54</td>\n",
              "      <td>1</td>\n",
              "      <td>0.32</td>\n",
              "      <td>0</td>\n",
              "    </tr>\n",
              "  </tbody>\n",
              "</table>\n",
              "</div>"
            ],
            "text/plain": [
              "   employee_id         department  ... engagement_score is_promoted\n",
              "0        65438  Sales & Marketing  ...             0.88           0\n",
              "1        65141         Operations  ...             0.31           0\n",
              "2         7513  Sales & Marketing  ...             3.10           0\n",
              "3         2542  Sales & Marketing  ...             0.64           0\n",
              "4        48945         Technology  ...             0.95           0\n",
              "5        58896          Analytics  ...             0.32           0\n",
              "6        20379         Operations  ...             0.58           0\n",
              "7        16290         Operations  ...             1.31           0\n",
              "8        73202          Analytics  ...             2.70           0\n",
              "9        28911  Sales & Marketing  ...             0.32           0\n",
              "\n",
              "[10 rows x 16 columns]"
            ]
          },
          "execution_count": 3,
          "metadata": {},
          "output_type": "execute_result"
        }
      ],
      "source": [
        "import pandas as pd\n",
        "\n",
        "df = pd.read_csv(data)\n",
        "df.head(10)"
      ]
    },
    {
      "cell_type": "code",
      "execution_count": null,
      "metadata": {
        "colab": {
          "base_uri": "https://localhost:8080/"
        },
        "id": "pXgTsCaE3DK1",
        "outputId": "f871a5e8-fffc-45a3-afcd-cb8ceb37149c"
      },
      "outputs": [
        {
          "name": "stdout",
          "output_type": "stream",
          "text": [
            "<class 'pandas.core.frame.DataFrame'>\n",
            "RangeIndex: 78298 entries, 0 to 78297\n",
            "Data columns (total 16 columns):\n",
            " #   Column                Non-Null Count  Dtype  \n",
            "---  ------                --------------  -----  \n",
            " 0   employee_id           78298 non-null  int64  \n",
            " 1   department            78298 non-null  object \n",
            " 2   region                78298 non-null  object \n",
            " 3   education             74855 non-null  object \n",
            " 4   gender                78298 non-null  object \n",
            " 5   job_level             78298 non-null  object \n",
            " 6   recruitment_channel   78298 non-null  object \n",
            " 7   no_of_trainings       78298 non-null  int64  \n",
            " 8   age                   78298 non-null  int64  \n",
            " 9   previous_year_rating  72362 non-null  float64\n",
            " 10  length_of_service     78298 non-null  int64  \n",
            " 11  awards_won?           78298 non-null  int64  \n",
            " 12  avg_training_score    78298 non-null  int64  \n",
            " 13  satisfaction_score    78298 non-null  int64  \n",
            " 14  engagement_score      78298 non-null  float64\n",
            " 15  is_promoted           78298 non-null  int64  \n",
            "dtypes: float64(2), int64(8), object(6)\n",
            "memory usage: 9.6+ MB\n"
          ]
        }
      ],
      "source": [
        "df.info()"
      ]
    },
    {
      "cell_type": "markdown",
      "metadata": {
        "id": "Y0iQ8KU996fL"
      },
      "source": [
        "**Keterangan data :**\n",
        "- employee_id: Unique ID untuk Karyawan\n",
        "- department: Department tempat Karyawan\n",
        "- region: Region of employment (Tidak Teratur)\n",
        "- education: Tingkat Pendidikan\n",
        "- gender: Jenis Kelamin dari Karyawan\n",
        "- job_level: Job Level di posisi terkini\n",
        "- recruitmentchannel: Sumber recruitment karyawan\n",
        "- no of trainings: Jumlah pelatihan yang pernah diikuti\n",
        "- Age: Usia Karyawan\n",
        "- previous year rating: Rating karyawan tahun sebelumnya\n",
        "- length of service: Lama kerja karyawan\n",
        "- awards won?: Pernah mendapatkan penghargaan ( ya : 1, Tidak : 0 )\n",
        "- avg_training_score: Nilai rata-rata pelatihan saat ini\n",
        "- satisfaction_score: Nilai kepuasan karyawan terhadap perusahaan\n",
        "- engagement_score: Nilai rata-rata karyawan merasa keterikatan dengan Perusahaan\n",
        "- is_promoted: Recommended for promotion"
      ]
    },
    {
      "cell_type": "code",
      "execution_count": null,
      "metadata": {
        "colab": {
          "base_uri": "https://localhost:8080/"
        },
        "id": "070Z4P9y6dIk",
        "outputId": "ecd6f840-4432-4bfa-d834-bcf447906c61"
      },
      "outputs": [
        {
          "data": {
            "text/plain": [
              "employee_id                0\n",
              "department                 0\n",
              "region                     0\n",
              "education               3443\n",
              "gender                     0\n",
              "job_level                  0\n",
              "recruitment_channel        0\n",
              "no_of_trainings            0\n",
              "age                        0\n",
              "previous_year_rating    5936\n",
              "length_of_service          0\n",
              "awards_won?                0\n",
              "avg_training_score         0\n",
              "satisfaction_score         0\n",
              "engagement_score           0\n",
              "is_promoted                0\n",
              "dtype: int64"
            ]
          },
          "execution_count": 5,
          "metadata": {},
          "output_type": "execute_result"
        }
      ],
      "source": [
        "df.isnull().sum()"
      ]
    },
    {
      "cell_type": "code",
      "execution_count": null,
      "metadata": {
        "id": "PXxxDmPEhEQT"
      },
      "outputs": [],
      "source": [
        "# data kosong dihapus karena hanya sedikit\n",
        "df.dropna(inplace=True)"
      ]
    },
    {
      "cell_type": "code",
      "execution_count": null,
      "metadata": {
        "id": "kxO3KlMsiKrg"
      },
      "outputs": [],
      "source": [
        "# kolom employee_id tidak dibutuhkan dalam modeling\n",
        "# region, department, dan recruitment_channel tidak dapat dijadikan acuan promosi jabatan\n",
        "df.drop(columns=['employee_id','region','department','recruitment_channel'], inplace=True)\n",
        "\n",
        "# Job level senior sudah maksimal dan tidak dapat dipromosikan lagi\n",
        "df.drop(df.index[df['job_level'] == 'senior'], inplace = True)"
      ]
    },
    {
      "cell_type": "code",
      "execution_count": null,
      "metadata": {
        "id": "M2eA36iDiygX"
      },
      "outputs": [],
      "source": [
        "df['gender'].replace(['f','m'],[0,1],inplace=True)\n",
        "\n",
        "# Ordinal Encoding, memiliki urutan\n",
        "df['education'].replace(['Below Secondary','Bachelor\\'s','Master\\'s & above'],[0,1,2],inplace=True)\n",
        "df['job_level'].replace(['junior','middle'],[0,1],inplace=True)"
      ]
    },
    {
      "cell_type": "code",
      "execution_count": null,
      "metadata": {
        "colab": {
          "base_uri": "https://localhost:8080/"
        },
        "id": "rBUvyy1IOQ5q",
        "outputId": "e048e8ce-b903-4cbf-cf3e-4c9a245aac29"
      },
      "outputs": [
        {
          "data": {
            "text/plain": [
              "array([5., 3., 4., 1., 2.])"
            ]
          },
          "execution_count": 9,
          "metadata": {},
          "output_type": "execute_result"
        }
      ],
      "source": [
        "df['previous_year_rating'].unique()"
      ]
    },
    {
      "cell_type": "code",
      "execution_count": null,
      "metadata": {
        "id": "X5Iu8yqoOO8y"
      },
      "outputs": [],
      "source": [
        "# previous_year_rating dibuat int karena hanya mengandung 1.0 2.0 3.0 4.0 5.0\n",
        "df['previous_year_rating'] = df['previous_year_rating'].astype(int)"
      ]
    },
    {
      "cell_type": "code",
      "execution_count": null,
      "metadata": {
        "colab": {
          "base_uri": "https://localhost:8080/",
          "height": 300
        },
        "id": "ltJ4yVkIizLt",
        "outputId": "f01c2652-974a-4d8e-d5ce-a7b8a0071ac6"
      },
      "outputs": [
        {
          "data": {
            "text/html": [
              "<div>\n",
              "<style scoped>\n",
              "    .dataframe tbody tr th:only-of-type {\n",
              "        vertical-align: middle;\n",
              "    }\n",
              "\n",
              "    .dataframe tbody tr th {\n",
              "        vertical-align: top;\n",
              "    }\n",
              "\n",
              "    .dataframe thead th {\n",
              "        text-align: right;\n",
              "    }\n",
              "</style>\n",
              "<table border=\"1\" class=\"dataframe\">\n",
              "  <thead>\n",
              "    <tr style=\"text-align: right;\">\n",
              "      <th></th>\n",
              "      <th>education</th>\n",
              "      <th>gender</th>\n",
              "      <th>job_level</th>\n",
              "      <th>no_of_trainings</th>\n",
              "      <th>age</th>\n",
              "      <th>previous_year_rating</th>\n",
              "      <th>length_of_service</th>\n",
              "      <th>awards_won?</th>\n",
              "      <th>avg_training_score</th>\n",
              "      <th>satisfaction_score</th>\n",
              "      <th>engagement_score</th>\n",
              "      <th>is_promoted</th>\n",
              "    </tr>\n",
              "  </thead>\n",
              "  <tbody>\n",
              "    <tr>\n",
              "      <th>count</th>\n",
              "      <td>37029.000000</td>\n",
              "      <td>37029.000000</td>\n",
              "      <td>37029.000000</td>\n",
              "      <td>37029.000000</td>\n",
              "      <td>37029.000000</td>\n",
              "      <td>37029.000000</td>\n",
              "      <td>37029.000000</td>\n",
              "      <td>37029.000000</td>\n",
              "      <td>37029.000000</td>\n",
              "      <td>37029.000000</td>\n",
              "      <td>37029.000000</td>\n",
              "      <td>37029.000000</td>\n",
              "    </tr>\n",
              "    <tr>\n",
              "      <th>mean</th>\n",
              "      <td>1.140890</td>\n",
              "      <td>0.692808</td>\n",
              "      <td>0.887359</td>\n",
              "      <td>1.294715</td>\n",
              "      <td>30.130600</td>\n",
              "      <td>3.326231</td>\n",
              "      <td>4.490291</td>\n",
              "      <td>0.024008</td>\n",
              "      <td>64.380216</td>\n",
              "      <td>2.996003</td>\n",
              "      <td>1.498137</td>\n",
              "      <td>0.016420</td>\n",
              "    </tr>\n",
              "    <tr>\n",
              "      <th>std</th>\n",
              "      <td>0.397137</td>\n",
              "      <td>0.461336</td>\n",
              "      <td>0.316158</td>\n",
              "      <td>0.650051</td>\n",
              "      <td>2.765122</td>\n",
              "      <td>1.262607</td>\n",
              "      <td>2.102071</td>\n",
              "      <td>0.153077</td>\n",
              "      <td>13.734594</td>\n",
              "      <td>1.418327</td>\n",
              "      <td>1.193812</td>\n",
              "      <td>0.127084</td>\n",
              "    </tr>\n",
              "    <tr>\n",
              "      <th>min</th>\n",
              "      <td>0.000000</td>\n",
              "      <td>0.000000</td>\n",
              "      <td>0.000000</td>\n",
              "      <td>1.000000</td>\n",
              "      <td>20.000000</td>\n",
              "      <td>1.000000</td>\n",
              "      <td>1.000000</td>\n",
              "      <td>0.000000</td>\n",
              "      <td>39.000000</td>\n",
              "      <td>1.000000</td>\n",
              "      <td>0.000000</td>\n",
              "      <td>0.000000</td>\n",
              "    </tr>\n",
              "    <tr>\n",
              "      <th>25%</th>\n",
              "      <td>1.000000</td>\n",
              "      <td>0.000000</td>\n",
              "      <td>1.000000</td>\n",
              "      <td>1.000000</td>\n",
              "      <td>28.000000</td>\n",
              "      <td>3.000000</td>\n",
              "      <td>3.000000</td>\n",
              "      <td>0.000000</td>\n",
              "      <td>52.000000</td>\n",
              "      <td>2.000000</td>\n",
              "      <td>0.540000</td>\n",
              "      <td>0.000000</td>\n",
              "    </tr>\n",
              "    <tr>\n",
              "      <th>50%</th>\n",
              "      <td>1.000000</td>\n",
              "      <td>1.000000</td>\n",
              "      <td>1.000000</td>\n",
              "      <td>1.000000</td>\n",
              "      <td>30.000000</td>\n",
              "      <td>3.000000</td>\n",
              "      <td>4.000000</td>\n",
              "      <td>0.000000</td>\n",
              "      <td>61.000000</td>\n",
              "      <td>3.000000</td>\n",
              "      <td>1.170000</td>\n",
              "      <td>0.000000</td>\n",
              "    </tr>\n",
              "    <tr>\n",
              "      <th>75%</th>\n",
              "      <td>1.000000</td>\n",
              "      <td>1.000000</td>\n",
              "      <td>1.000000</td>\n",
              "      <td>1.000000</td>\n",
              "      <td>32.000000</td>\n",
              "      <td>4.000000</td>\n",
              "      <td>6.000000</td>\n",
              "      <td>0.000000</td>\n",
              "      <td>78.000000</td>\n",
              "      <td>4.000000</td>\n",
              "      <td>2.240000</td>\n",
              "      <td>0.000000</td>\n",
              "    </tr>\n",
              "    <tr>\n",
              "      <th>max</th>\n",
              "      <td>2.000000</td>\n",
              "      <td>1.000000</td>\n",
              "      <td>1.000000</td>\n",
              "      <td>10.000000</td>\n",
              "      <td>34.000000</td>\n",
              "      <td>5.000000</td>\n",
              "      <td>13.000000</td>\n",
              "      <td>1.000000</td>\n",
              "      <td>99.000000</td>\n",
              "      <td>5.000000</td>\n",
              "      <td>5.000000</td>\n",
              "      <td>1.000000</td>\n",
              "    </tr>\n",
              "  </tbody>\n",
              "</table>\n",
              "</div>"
            ],
            "text/plain": [
              "          education        gender  ...  engagement_score   is_promoted\n",
              "count  37029.000000  37029.000000  ...      37029.000000  37029.000000\n",
              "mean       1.140890      0.692808  ...          1.498137      0.016420\n",
              "std        0.397137      0.461336  ...          1.193812      0.127084\n",
              "min        0.000000      0.000000  ...          0.000000      0.000000\n",
              "25%        1.000000      0.000000  ...          0.540000      0.000000\n",
              "50%        1.000000      1.000000  ...          1.170000      0.000000\n",
              "75%        1.000000      1.000000  ...          2.240000      0.000000\n",
              "max        2.000000      1.000000  ...          5.000000      1.000000\n",
              "\n",
              "[8 rows x 12 columns]"
            ]
          },
          "execution_count": 11,
          "metadata": {},
          "output_type": "execute_result"
        }
      ],
      "source": [
        "df.describe()"
      ]
    },
    {
      "cell_type": "code",
      "execution_count": null,
      "metadata": {
        "colab": {
          "base_uri": "https://localhost:8080/",
          "height": 897
        },
        "id": "2vVkR2A3hO9o",
        "outputId": "2eccbf07-b323-4aa1-80a3-548665a22ef5"
      },
      "outputs": [
        {
          "data": {
            "text/plain": [
              "<matplotlib.axes._subplots.AxesSubplot at 0x7fae95a69890>"
            ]
          },
          "execution_count": 12,
          "metadata": {},
          "output_type": "execute_result"
        },
        {
          "data": {
            "image/png": "[encoded data removed]",
            "text/plain": [
              "<Figure size 2880x1440 with 2 Axes>"
            ]
          },
          "metadata": {
            "needs_background": "light"
          },
          "output_type": "display_data"
        }
      ],
      "source": [
        "import matplotlib.pyplot as plt\n",
        "import seaborn as sns\n",
        "\n",
        "plt.figure(figsize=[40,20])\n",
        "sns.heatmap(df.corr(), vmin=-1, cmap='coolwarm', annot=True)"
      ]
    },
    {
      "cell_type": "code",
      "execution_count": null,
      "metadata": {
        "id": "OqrcnSnTikgr"
      },
      "outputs": [],
      "source": [
        "# korelasi gender dan age kepada target terlalu rendah(<0.003) maka tidak dibutuhkan\n",
        "df.drop(['gender','age'], axis=1, inplace=True)"
      ]
    },
    {
      "cell_type": "code",
      "execution_count": null,
      "metadata": {
        "colab": {
          "base_uri": "https://localhost:8080/"
        },
        "id": "IVke2cY4VHbq",
        "outputId": "c18cb39c-002c-4a62-f724-b7d8c80c64c9"
      },
      "outputs": [
        {
          "data": {
            "text/plain": [
              "138"
            ]
          },
          "execution_count": 14,
          "metadata": {},
          "output_type": "execute_result"
        }
      ],
      "source": [
        "# cek duplikasi ada disini karena beberapa fitur telah dihapus\n",
        "df.duplicated().sum()"
      ]
    },
    {
      "cell_type": "code",
      "execution_count": null,
      "metadata": {
        "id": "ak4QPJMuVIF6"
      },
      "outputs": [],
      "source": [
        "df.drop_duplicates(inplace=True)"
      ]
    },
    {
      "cell_type": "code",
      "execution_count": null,
      "metadata": {
        "colab": {
          "base_uri": "https://localhost:8080/"
        },
        "id": "s2mBtCbu3b2H",
        "outputId": "cf646967-9d31-4abc-a179-9fa44ad04789"
      },
      "outputs": [
        {
          "data": {
            "text/plain": [
              "0    36283\n",
              "1      608\n",
              "Name: is_promoted, dtype: int64"
            ]
          },
          "execution_count": 16,
          "metadata": {},
          "output_type": "execute_result"
        }
      ],
      "source": [
        "df['is_promoted'].value_counts() # perbandingan kategori target"
      ]
    },
    {
      "cell_type": "code",
      "execution_count": null,
      "metadata": {
        "id": "CO-5OAt4crDm"
      },
      "outputs": [],
      "source": [
        "#df_encoded = pd.get_dummies(df, columns=['department','recruitment_channel'])"
      ]
    },
    {
      "cell_type": "code",
      "execution_count": null,
      "metadata": {
        "id": "iVIxGD9of-JS"
      },
      "outputs": [],
      "source": [
        "feature = df.drop(['is_promoted'], axis=1)\n",
        "target = df['is_promoted']"
      ]
    },
    {
      "cell_type": "code",
      "execution_count": null,
      "metadata": {
        "colab": {
          "base_uri": "https://localhost:8080/"
        },
        "id": "KoFzqHCSsHf7",
        "outputId": "677a6b4e-a3d3-4c69-db64-5a8e542439a7"
      },
      "outputs": [
        {
          "name": "stdout",
          "output_type": "stream",
          "text": [
            "Tree Model Score: 0.9722623780267438\n",
            "Naive Bayes Model Score: 0.9760571015540296\n",
            "SGD Model Score: 0.9793097217202746\n",
            "MLPC Model Score: 0.9831947958077341\n"
          ]
        }
      ],
      "source": [
        "from sklearn.model_selection import train_test_split\n",
        "from sklearn.tree import DecisionTreeClassifier\n",
        "from sklearn.naive_bayes import GaussianNB\n",
        "from sklearn.linear_model import SGDClassifier\n",
        "from sklearn.neural_network import MLPClassifier\n",
        "\n",
        "random_state = 42\n",
        "\n",
        "X_train, X_test, y_train, y_test = train_test_split(feature, target, \n",
        "                                                    test_size=0.3, \n",
        "                                                    random_state=random_state)\n",
        "\n",
        "tree_model = DecisionTreeClassifier(random_state=random_state).fit(X_train, y_train) \n",
        "gnb_model = GaussianNB().fit(X_train, y_train)\n",
        "sgd_model = SGDClassifier(random_state=random_state).fit(X_train, y_train)\n",
        "mlpc_model = MLPClassifier(random_state=random_state).fit(X_train, y_train)\n",
        "\n",
        "# Return the mean accuracy on the given test data and labels\n",
        "print('Tree Model Score:', tree_model.score(X_test, y_test))\n",
        "print('Naive Bayes Model Score:', gnb_model.score(X_test, y_test))\n",
        "print('SGD Model Score:', sgd_model.score(X_test, y_test))\n",
        "print('MLPC Model Score:', mlpc_model.score(X_test, y_test))"
      ]
    },
    {
      "cell_type": "code",
      "execution_count": null,
      "metadata": {
        "colab": {
          "base_uri": "https://localhost:8080/"
        },
        "id": "xmZce2DnN2w1",
        "outputId": "26dada5c-63d5-4a3d-9ee7-383d066347cc"
      },
      "outputs": [
        {
          "data": {
            "text/plain": [
              "Index(['education', 'job_level', 'no_of_trainings', 'previous_year_rating',\n",
              "       'length_of_service', 'awards_won?', 'avg_training_score',\n",
              "       'satisfaction_score', 'engagement_score', 'is_promoted'],\n",
              "      dtype='object')"
            ]
          },
          "execution_count": 20,
          "metadata": {},
          "output_type": "execute_result"
        }
      ],
      "source": [
        "df.keys()"
      ]
    },
    {
      "cell_type": "code",
      "execution_count": null,
      "metadata": {
        "colab": {
          "base_uri": "https://localhost:8080/"
        },
        "id": "xW7Vy9jzJiM7",
        "outputId": "9ffaa691-2f3a-4b37-a132-f3ce86993914"
      },
      "outputs": [
        {
          "name": "stdout",
          "output_type": "stream",
          "text": [
            "[[2, 1, 2, 1, 15, 1, 88, 1, 0.4]]\n",
            "\n",
            "(0:Not Promoted, 1:Promoted), The value is\n",
            "Decision Tree: [0]\n",
            "Naive Bayes: [0]\n",
            "SGD: [0]\n",
            "MLPC [0]\n"
          ]
        },
        {
          "name": "stderr",
          "output_type": "stream",
          "text": [
            "/usr/local/lib/python3.7/dist-packages/sklearn/base.py:446: UserWarning: X does not have valid feature names, but DecisionTreeClassifier was fitted with feature names\n",
            "  \"X does not have valid feature names, but\"\n",
            "/usr/local/lib/python3.7/dist-packages/sklearn/base.py:446: UserWarning: X does not have valid feature names, but GaussianNB was fitted with feature names\n",
            "  \"X does not have valid feature names, but\"\n",
            "/usr/local/lib/python3.7/dist-packages/sklearn/base.py:446: UserWarning: X does not have valid feature names, but SGDClassifier was fitted with feature names\n",
            "  \"X does not have valid feature names, but\"\n",
            "/usr/local/lib/python3.7/dist-packages/sklearn/base.py:446: UserWarning: X does not have valid feature names, but MLPClassifier was fitted with feature names\n",
            "  \"X does not have valid feature names, but\"\n"
          ]
        }
      ],
      "source": [
        "# Prediksi menggunakan nilai acak\n",
        "import random\n",
        "\n",
        "education = random.randint(0, 2)\n",
        "job_level = random.randint(0, 1)\n",
        "no_of_trainings = random.randint(1, 10)\n",
        "previous_year_rating = random.randint(1, 5)\n",
        "length_of_service = random.randint(0, 20)\n",
        "awards_won = random.randint(0, 1)\n",
        "avg_training_score = random.randint(20, 100)\n",
        "satisfaction_score = random.randint(1, 5)\n",
        "engagement_score =  round(random.uniform(0, 5), 1)\n",
        "\n",
        "data_test = [[education,job_level,no_of_trainings,previous_year_rating,\n",
        "              length_of_service,awards_won, avg_training_score,\n",
        "              satisfaction_score, engagement_score]]\n",
        "\n",
        "test_tree = tree_model.predict(data_test)\n",
        "test_gnb = gnb_model.predict(data_test)\n",
        "test_sgd = sgd_model.predict(data_test)\n",
        "test_mlpc = mlpc_model.predict(data_test)\n",
        "print(data_test)\n",
        "print('')\n",
        "print('(0:Not Promoted, 1:Promoted), The value is')\n",
        "print('Decision Tree:', test_tree)\n",
        "print('Naive Bayes:',test_gnb)\n",
        "print('SGD:',test_sgd)\n",
        "print('MLPC',test_mlpc)"
      ]
    },
    {
      "cell_type": "code",
      "execution_count": null,
      "metadata": {
        "id": "HITmVxjbRIXd"
      },
      "outputs": [],
      "source": [
        "# Prediksi menggunakan nilai masukan\n",
        "\n",
        "education = int(input('Education (0:Below Secondary, 1:Bachelor\\'s, 2:Master\\'s & above): '))\n",
        "job_level = int(input('Job Level (0:Junior, 1:Middle): '))\n",
        "no_of_trainings = int(input('No of Training (1-10): '))\n",
        "previous_year_rating = int(input('Previous Year Rating (1-5): '))\n",
        "length_of_service = int(input('Length of Service: '))\n",
        "awards_won = int(input('Awards Won (0:No, 1:Yes): '))\n",
        "avg_training_score = int(input('Average Training Score (0-100): '))\n",
        "satisfaction_score = int(input('Satisfaction Score (1-5): '))\n",
        "engagement_score =  float(input('Engagement_score (Float 0.0-5.0): '))\n",
        "\n",
        "data_test = [[education,job_level,no_of_trainings,previous_year_rating,\n",
        "              length_of_service,awards_won, avg_training_score,\n",
        "              satisfaction_score, engagement_score]]\n",
        "              \n",
        "test_tree = tree_model.predict(data_test)\n",
        "test_gnb = gnb_model.predict(data_test)\n",
        "test_sgd = sgd_model.predict(data_test)\n",
        "test_mlpc = mlpc_model.predict(data_test)\n",
        "print(data_test)\n",
        "print('')\n",
        "print('(0:Not Promoted, 1:Promoted), The value is')\n",
        "print('Decision Tree:', test_tree)\n",
        "print('Naive Bayes:',test_gnb)\n",
        "print('SGD:',test_sgd)\n",
        "print('MLPC',test_mlpc)\n"
      ]
    }
  ],
  "metadata": {
    "colab": {
      "name": "CODEX MINDSIGHT BOOTCAMP Study Case.ipynb",
      "provenance": []
    },
    "kernelspec": {
      "display_name": "Python 3",
      "name": "python3"
    },
    "language_info": {
      "name": "python"
    }
  },
  "nbformat": 4,
  "nbformat_minor": 0
}
